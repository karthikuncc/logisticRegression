{
 "cells": [
  {
   "cell_type": "code",
   "execution_count": 1,
   "metadata": {
    "collapsed": true
   },
   "outputs": [],
   "source": [
    "import pandas as pd #pandas is a dataframe library\n",
    "import matplotlib.pyplot as plt  #matplotlib.pyplot plots data\n",
    "import numpy as np  #numpy provides n-dimension object support\n",
    "from sklearn.linear_model import LogisticRegression\n",
    "%matplotlib inline\n",
    "\n",
    "import math\n",
    "import numpy as np\n",
    "import pandas as pd\n",
    "from pandas import DataFrame\n",
    "from sklearn import preprocessing\n",
    "from sklearn.linear_model import LogisticRegression\n",
    "from sklearn.cross_validation import train_test_split\n",
    "from numpy import loadtxt, where\n",
    "from pylab import scatter, show, legend, xlabel, ylabel\n"
   ]
  },
  {
   "cell_type": "code",
   "execution_count": 2,
   "metadata": {
    "collapsed": true
   },
   "outputs": [],
   "source": [
    "df=pd.read_csv(\"C:/Users/scoda/Desktop/CreditRiskAnalysis/Training50.csv\")"
   ]
  },
  {
   "cell_type": "code",
   "execution_count": 3,
   "metadata": {
    "collapsed": false
   },
   "outputs": [
    {
     "data": {
      "text/html": [
       "<div>\n",
       "<table border=\"1\" class=\"dataframe\">\n",
       "  <thead>\n",
       "    <tr style=\"text-align: right;\">\n",
       "      <th></th>\n",
       "      <th>Unnamed: 0</th>\n",
       "      <th>Creditability</th>\n",
       "      <th>Account.Balance</th>\n",
       "      <th>Duration.of.Credit..month.</th>\n",
       "      <th>Payment.Status.of.Previous.Credit</th>\n",
       "      <th>Purpose</th>\n",
       "      <th>Credit.Amount</th>\n",
       "      <th>Value.Savings.Stocks</th>\n",
       "      <th>Length.of.current.employment</th>\n",
       "      <th>Instalment.per.cent</th>\n",
       "      <th>...</th>\n",
       "      <th>Duration.in.Current.address</th>\n",
       "      <th>Most.valuable.available.asset</th>\n",
       "      <th>Age..years.</th>\n",
       "      <th>Concurrent.Credits</th>\n",
       "      <th>Type.of.apartment</th>\n",
       "      <th>No.of.Credits.at.this.Bank</th>\n",
       "      <th>Occupation</th>\n",
       "      <th>No.of.dependents</th>\n",
       "      <th>Telephone</th>\n",
       "      <th>Foreign.Worker</th>\n",
       "    </tr>\n",
       "  </thead>\n",
       "  <tbody>\n",
       "    <tr>\n",
       "      <th>0</th>\n",
       "      <td>497</td>\n",
       "      <td>1</td>\n",
       "      <td>3</td>\n",
       "      <td>6</td>\n",
       "      <td>2</td>\n",
       "      <td>3</td>\n",
       "      <td>2108</td>\n",
       "      <td>1</td>\n",
       "      <td>3</td>\n",
       "      <td>2</td>\n",
       "      <td>...</td>\n",
       "      <td>2</td>\n",
       "      <td>1</td>\n",
       "      <td>29</td>\n",
       "      <td>2</td>\n",
       "      <td>1</td>\n",
       "      <td>1</td>\n",
       "      <td>1</td>\n",
       "      <td>1</td>\n",
       "      <td>1</td>\n",
       "      <td>1</td>\n",
       "    </tr>\n",
       "    <tr>\n",
       "      <th>1</th>\n",
       "      <td>756</td>\n",
       "      <td>0</td>\n",
       "      <td>1</td>\n",
       "      <td>15</td>\n",
       "      <td>1</td>\n",
       "      <td>4</td>\n",
       "      <td>950</td>\n",
       "      <td>1</td>\n",
       "      <td>4</td>\n",
       "      <td>4</td>\n",
       "      <td>...</td>\n",
       "      <td>3</td>\n",
       "      <td>3</td>\n",
       "      <td>33</td>\n",
       "      <td>2</td>\n",
       "      <td>1</td>\n",
       "      <td>2</td>\n",
       "      <td>1</td>\n",
       "      <td>2</td>\n",
       "      <td>1</td>\n",
       "      <td>1</td>\n",
       "    </tr>\n",
       "    <tr>\n",
       "      <th>2</th>\n",
       "      <td>580</td>\n",
       "      <td>0</td>\n",
       "      <td>1</td>\n",
       "      <td>42</td>\n",
       "      <td>2</td>\n",
       "      <td>3</td>\n",
       "      <td>7174</td>\n",
       "      <td>4</td>\n",
       "      <td>3</td>\n",
       "      <td>4</td>\n",
       "      <td>...</td>\n",
       "      <td>3</td>\n",
       "      <td>3</td>\n",
       "      <td>30</td>\n",
       "      <td>2</td>\n",
       "      <td>2</td>\n",
       "      <td>1</td>\n",
       "      <td>1</td>\n",
       "      <td>1</td>\n",
       "      <td>2</td>\n",
       "      <td>1</td>\n",
       "    </tr>\n",
       "    <tr>\n",
       "      <th>3</th>\n",
       "      <td>833</td>\n",
       "      <td>0</td>\n",
       "      <td>3</td>\n",
       "      <td>36</td>\n",
       "      <td>3</td>\n",
       "      <td>4</td>\n",
       "      <td>7980</td>\n",
       "      <td>4</td>\n",
       "      <td>1</td>\n",
       "      <td>4</td>\n",
       "      <td>...</td>\n",
       "      <td>4</td>\n",
       "      <td>3</td>\n",
       "      <td>27</td>\n",
       "      <td>2</td>\n",
       "      <td>1</td>\n",
       "      <td>2</td>\n",
       "      <td>1</td>\n",
       "      <td>1</td>\n",
       "      <td>2</td>\n",
       "      <td>1</td>\n",
       "    </tr>\n",
       "    <tr>\n",
       "      <th>4</th>\n",
       "      <td>602</td>\n",
       "      <td>1</td>\n",
       "      <td>3</td>\n",
       "      <td>24</td>\n",
       "      <td>3</td>\n",
       "      <td>2</td>\n",
       "      <td>2028</td>\n",
       "      <td>1</td>\n",
       "      <td>3</td>\n",
       "      <td>2</td>\n",
       "      <td>...</td>\n",
       "      <td>2</td>\n",
       "      <td>2</td>\n",
       "      <td>30</td>\n",
       "      <td>2</td>\n",
       "      <td>2</td>\n",
       "      <td>2</td>\n",
       "      <td>1</td>\n",
       "      <td>1</td>\n",
       "      <td>1</td>\n",
       "      <td>1</td>\n",
       "    </tr>\n",
       "  </tbody>\n",
       "</table>\n",
       "<p>5 rows × 22 columns</p>\n",
       "</div>"
      ],
      "text/plain": [
       "   Unnamed: 0  Creditability  Account.Balance  Duration.of.Credit..month.  \\\n",
       "0         497              1                3                           6   \n",
       "1         756              0                1                          15   \n",
       "2         580              0                1                          42   \n",
       "3         833              0                3                          36   \n",
       "4         602              1                3                          24   \n",
       "\n",
       "   Payment.Status.of.Previous.Credit  Purpose  Credit.Amount  \\\n",
       "0                                  2        3           2108   \n",
       "1                                  1        4            950   \n",
       "2                                  2        3           7174   \n",
       "3                                  3        4           7980   \n",
       "4                                  3        2           2028   \n",
       "\n",
       "   Value.Savings.Stocks  Length.of.current.employment  Instalment.per.cent  \\\n",
       "0                     1                             3                    2   \n",
       "1                     1                             4                    4   \n",
       "2                     4                             3                    4   \n",
       "3                     4                             1                    4   \n",
       "4                     1                             3                    2   \n",
       "\n",
       "        ...        Duration.in.Current.address  Most.valuable.available.asset  \\\n",
       "0       ...                                  2                              1   \n",
       "1       ...                                  3                              3   \n",
       "2       ...                                  3                              3   \n",
       "3       ...                                  4                              3   \n",
       "4       ...                                  2                              2   \n",
       "\n",
       "   Age..years.  Concurrent.Credits  Type.of.apartment  \\\n",
       "0           29                   2                  1   \n",
       "1           33                   2                  1   \n",
       "2           30                   2                  2   \n",
       "3           27                   2                  1   \n",
       "4           30                   2                  2   \n",
       "\n",
       "   No.of.Credits.at.this.Bank  Occupation  No.of.dependents  Telephone  \\\n",
       "0                           1           1                 1          1   \n",
       "1                           2           1                 2          1   \n",
       "2                           1           1                 1          2   \n",
       "3                           2           1                 1          2   \n",
       "4                           2           1                 1          1   \n",
       "\n",
       "   Foreign.Worker  \n",
       "0               1  \n",
       "1               1  \n",
       "2               1  \n",
       "3               1  \n",
       "4               1  \n",
       "\n",
       "[5 rows x 22 columns]"
      ]
     },
     "execution_count": 3,
     "metadata": {},
     "output_type": "execute_result"
    }
   ],
   "source": [
    "df.head()"
   ]
  },
  {
   "cell_type": "code",
   "execution_count": 4,
   "metadata": {
    "collapsed": false
   },
   "outputs": [],
   "source": [
    "df=df.drop('Unnamed: 0', axis=1)"
   ]
  },
  {
   "cell_type": "code",
   "execution_count": 5,
   "metadata": {
    "collapsed": false
   },
   "outputs": [
    {
     "data": {
      "text/plain": [
       "False"
      ]
     },
     "execution_count": 5,
     "metadata": {},
     "output_type": "execute_result"
    }
   ],
   "source": [
    "df.isnull().values.any()"
   ]
  },
  {
   "cell_type": "code",
   "execution_count": 6,
   "metadata": {
    "collapsed": false
   },
   "outputs": [
    {
     "name": "stdout",
     "output_type": "stream",
     "text": [
      "70.00% in training set\n",
      "30.00% in test set\n"
     ]
    }
   ],
   "source": [
    "from sklearn.cross_validation import train_test_split\n",
    "feature_col_names=['Account.Balance','Duration.of.Credit..month.','Payment.Status.of.Previous.Credit','Purpose','Credit.Amount',\n",
    "                  'Value.Savings.Stocks','Length.of.current.employment','Instalment.per.cent','Sex...Marital.Status',\n",
    "                   'Guarantors','Duration.in.Current.address','Most.valuable.available.asset','Age..years.','Concurrent.Credits',\n",
    "                   'Type.of.apartment','No.of.Credits.at.this.Bank','No.of.dependents','Telephone','Foreign.Worker' \n",
    "                  ]\n",
    "predicted_class_names = ['Creditability']\n",
    "\n",
    "X=df[feature_col_names].values  #predictor feature columns\n",
    "X = np.array(X)\n",
    "y=df[predicted_class_names].values  #predicted Class (1=true ,0=false) column(1 x m)\n",
    "Y = np.array(y)\n",
    "split_test_size=0.30\n",
    "X_train,X_test,Y_train,Y_test = train_test_split(X,Y,test_size=split_test_size,random_state=42)\n",
    "#test_size=0.3 is 30% \n",
    "\n",
    "print(\"{0:2.2f}% in training set\".format((len(X_train)/len(df.index))*100))\n",
    "print(\"{0:2.2f}% in test set\".format((len(X_test)/len(df.index))*100))\n"
   ]
  },
  {
   "cell_type": "code",
   "execution_count": 7,
   "metadata": {
    "collapsed": false
   },
   "outputs": [
    {
     "name": "stdout",
     "output_type": "stream",
     "text": [
      "score Scikit learn:  0.746666666667\n"
     ]
    },
    {
     "name": "stderr",
     "output_type": "stream",
     "text": [
      "C:\\Users\\scoda\\Anaconda3\\lib\\site-packages\\sklearn\\utils\\validation.py:515: DataConversionWarning: A column-vector y was passed when a 1d array was expected. Please change the shape of y to (n_samples, ), for example using ravel().\n",
      "  y = column_or_1d(y, warn=True)\n"
     ]
    }
   ],
   "source": [
    "# train scikit learn model \n",
    "clf = LogisticRegression()\n",
    "clf.fit(X_train,Y_train)\n",
    "print('score Scikit learn: ', clf.score(X_test,Y_test))"
   ]
  },
  {
   "cell_type": "code",
   "execution_count": 8,
   "metadata": {
    "collapsed": false
   },
   "outputs": [],
   "source": [
    "##The sigmoid function adjusts the cost function hypotheses to adjust the algorithm proportionally for worse estimations\n",
    "def Sigmoid(z):\n",
    "\tG_of_Z = float(1.0 / float((1.0 + math.exp(-1.0*z))))\n",
    "\treturn G_of_Z \n",
    "\n",
    "##The hypothesis is the linear combination of all the known factors x[i] and their current estimated coefficients theta[i] \n",
    "##This hypothesis will be used to calculate each instance of the Cost Function\n",
    "def Hypothesis(theta, x):\n",
    "\tz = 0\n",
    "\tfor i in range(0,len(theta)):\n",
    "\t\tz += x[i]*theta[i]\n",
    "\treturn Sigmoid(z)\n",
    "\n",
    "##For each member of the dataset, the result (Y) determines which variation of the cost function is used\n",
    "##The Y = 0 cost function punishes high probability estimations, and the Y = 1 it punishes low scores\n",
    "##The \"punishment\" makes the change in the gradient of ThetaCurrent - Average(CostFunction(Dataset)) greater\n",
    "def Cost_Function(X,Y,theta,m):\n",
    "\tsumOfErrors = 0\n",
    "\tfor i in range(0,m):\n",
    "\t\txi = X[i]\n",
    "\t\thi = Hypothesis(theta,xi)\n",
    "\t\tif Y[i] == 1:\n",
    "\t\t\terror = Y[i] * math.log(hi)\n",
    "\t\telif Y[i] == 0:\n",
    "\t\t\terror = (1-Y[i]) * math.log(1-hi)\n",
    "\t\tsumOfErrors += error\n",
    "\tconst = -1/m\n",
    "\tJ = const * sumOfErrors\n",
    "\tprint('cost is ', J)\n",
    "\treturn J\n",
    "##This function creates the gradient component for each Theta value \n",
    "##The gradient is the partial derivative by Theta of the current value of theta minus \n",
    "##a \"learning speed factor aplha\" times the average of all the cost functions for that theta\n",
    "##For each Theta there is a cost function calculated for each member of the dataset\n",
    "def Cost_Function_Derivative(X,Y,theta,j,m,alpha):\n",
    "\tsumErrors = 0\n",
    "\tfor i in range(0,m):\n",
    "\t\txi = X[i]\n",
    "\t\txij = xi[j]\n",
    "\t\thi = Hypothesis(theta,X[i])\n",
    "\t\terror = (hi - Y[i])*xij\n",
    "\t\tsumErrors += error\n",
    "\tm = len(Y)\n",
    "\tconstant = float(alpha)/float(m)\n",
    "\tJ = constant * sumErrors\n",
    "\treturn J\n",
    "\n"
   ]
  },
  {
   "cell_type": "code",
   "execution_count": 9,
   "metadata": {
    "collapsed": false
   },
   "outputs": [],
   "source": [
    "##For each theta, the partial differential \n",
    "##The gradient, or vector from the current point in Theta-space (each theta value is its own dimension) to the more accurate point, \n",
    "##is the vector with each dimensional component being the partial differential for each theta value\n",
    "def Gradient_Descent(X,Y,theta,m,alpha):\n",
    "\tnew_theta = []\n",
    "\tconstant = alpha/m\n",
    "\tfor j in range(0,len(theta)):\n",
    "\t\tCFDerivative = Cost_Function_Derivative(X,Y,theta,j,m,alpha)\n",
    "\t\tnew_theta_value = theta[j] - CFDerivative\n",
    "\t\tnew_theta.append(new_theta_value)\n",
    "\treturn new_theta\n",
    "\n",
    "##The high level function for the LR algorithm which, for a number of steps (num_iters) finds gradients which take \n",
    "##the Theta values (coefficients of known factors) from an estimation closer (new_theta) to their \"optimum estimation\" which is the\n",
    "##set of values best representing the system in a linear combination model\n",
    "def Logistic_Regression(X,Y,alpha,theta,num_iters):\n",
    "\tm = len(Y)\n",
    "\tfor x in range(0,num_iters):\n",
    "\t\tnew_theta = Gradient_Descent(X,Y,theta,m,alpha)\n",
    "\t\ttheta = new_theta\n",
    "\t\tif x % 100 == 0:\n",
    "\t\t\t#here the cost function is used to present the final hypothesis of the model in the same form for each gradient-step iteration\n",
    "\t\t\tCost_Function(X,Y,theta,m)\n",
    "\t\t\tprint('theta ', theta)\t\n",
    "\t\t\tprint('cost is ', Cost_Function(X,Y,theta,m))\n",
    "\tDeclare_Winner(theta)\n"
   ]
  },
  {
   "cell_type": "code",
   "execution_count": 10,
   "metadata": {
    "collapsed": false
   },
   "outputs": [
    {
     "name": "stdout",
     "output_type": "stream",
     "text": [
      "cost is  [ 2.57634938]\n",
      "theta  [array([ 0.0593]), array([ 0.3456])]\n",
      "cost is  [ 2.57634938]\n",
      "cost is  [ 2.57634938]\n",
      "cost is  [ 5.75170691]\n",
      "theta  [array([ 2.01781616]), array([-0.63468937])]\n",
      "cost is  [ 5.75170691]\n",
      "cost is  [ 5.75170691]\n",
      "cost is  [ 3.31390398]\n",
      "theta  [array([ 2.66915622]), array([-0.50564438])]\n",
      "cost is  [ 3.31390398]\n",
      "cost is  [ 3.31390398]\n"
     ]
    },
    {
     "ename": "ValueError",
     "evalue": "math domain error",
     "output_type": "error",
     "traceback": [
      "\u001b[0;31m---------------------------------------------------------------------------\u001b[0m",
      "\u001b[0;31mValueError\u001b[0m                                Traceback (most recent call last)",
      "\u001b[0;32m<ipython-input-10-bb6e8e861ec3>\u001b[0m in \u001b[0;36m<module>\u001b[0;34m()\u001b[0m\n\u001b[1;32m     31\u001b[0m \u001b[0malpha\u001b[0m \u001b[1;33m=\u001b[0m \u001b[1;36m0.1\u001b[0m\u001b[1;33m\u001b[0m\u001b[0m\n\u001b[1;32m     32\u001b[0m \u001b[0miterations\u001b[0m \u001b[1;33m=\u001b[0m \u001b[1;36m1000\u001b[0m\u001b[1;33m\u001b[0m\u001b[0m\n\u001b[0;32m---> 33\u001b[0;31m \u001b[0mLogistic_Regression\u001b[0m\u001b[1;33m(\u001b[0m\u001b[0mX\u001b[0m\u001b[1;33m,\u001b[0m\u001b[0mY\u001b[0m\u001b[1;33m,\u001b[0m\u001b[0malpha\u001b[0m\u001b[1;33m,\u001b[0m\u001b[0minitial_theta\u001b[0m\u001b[1;33m,\u001b[0m\u001b[0miterations\u001b[0m\u001b[1;33m)\u001b[0m\u001b[1;33m\u001b[0m\u001b[0m\n\u001b[0m",
      "\u001b[0;32m<ipython-input-9-696ddc030675>\u001b[0m in \u001b[0;36mLogistic_Regression\u001b[0;34m(X, Y, alpha, theta, num_iters)\u001b[0m\n\u001b[1;32m     21\u001b[0m                 \u001b[1;32mif\u001b[0m \u001b[0mx\u001b[0m \u001b[1;33m%\u001b[0m \u001b[1;36m100\u001b[0m \u001b[1;33m==\u001b[0m \u001b[1;36m0\u001b[0m\u001b[1;33m:\u001b[0m\u001b[1;33m\u001b[0m\u001b[0m\n\u001b[1;32m     22\u001b[0m                         \u001b[1;31m#here the cost function is used to present the final hypothesis of the model in the same form for each gradient-step iteration\u001b[0m\u001b[1;33m\u001b[0m\u001b[1;33m\u001b[0m\u001b[0m\n\u001b[0;32m---> 23\u001b[0;31m                         \u001b[0mCost_Function\u001b[0m\u001b[1;33m(\u001b[0m\u001b[0mX\u001b[0m\u001b[1;33m,\u001b[0m\u001b[0mY\u001b[0m\u001b[1;33m,\u001b[0m\u001b[0mtheta\u001b[0m\u001b[1;33m,\u001b[0m\u001b[0mm\u001b[0m\u001b[1;33m)\u001b[0m\u001b[1;33m\u001b[0m\u001b[0m\n\u001b[0m\u001b[1;32m     24\u001b[0m                         \u001b[0mprint\u001b[0m\u001b[1;33m(\u001b[0m\u001b[1;34m'theta '\u001b[0m\u001b[1;33m,\u001b[0m \u001b[0mtheta\u001b[0m\u001b[1;33m)\u001b[0m\u001b[1;33m\u001b[0m\u001b[0m\n\u001b[1;32m     25\u001b[0m                         \u001b[0mprint\u001b[0m\u001b[1;33m(\u001b[0m\u001b[1;34m'cost is '\u001b[0m\u001b[1;33m,\u001b[0m \u001b[0mCost_Function\u001b[0m\u001b[1;33m(\u001b[0m\u001b[0mX\u001b[0m\u001b[1;33m,\u001b[0m\u001b[0mY\u001b[0m\u001b[1;33m,\u001b[0m\u001b[0mtheta\u001b[0m\u001b[1;33m,\u001b[0m\u001b[0mm\u001b[0m\u001b[1;33m)\u001b[0m\u001b[1;33m)\u001b[0m\u001b[1;33m\u001b[0m\u001b[0m\n",
      "\u001b[0;32m<ipython-input-8-edeb3e030d61>\u001b[0m in \u001b[0;36mCost_Function\u001b[0;34m(X, Y, theta, m)\u001b[0m\n\u001b[1;32m     23\u001b[0m                         \u001b[0merror\u001b[0m \u001b[1;33m=\u001b[0m \u001b[0mY\u001b[0m\u001b[1;33m[\u001b[0m\u001b[0mi\u001b[0m\u001b[1;33m]\u001b[0m \u001b[1;33m*\u001b[0m \u001b[0mmath\u001b[0m\u001b[1;33m.\u001b[0m\u001b[0mlog\u001b[0m\u001b[1;33m(\u001b[0m\u001b[0mhi\u001b[0m\u001b[1;33m)\u001b[0m\u001b[1;33m\u001b[0m\u001b[0m\n\u001b[1;32m     24\u001b[0m                 \u001b[1;32melif\u001b[0m \u001b[0mY\u001b[0m\u001b[1;33m[\u001b[0m\u001b[0mi\u001b[0m\u001b[1;33m]\u001b[0m \u001b[1;33m==\u001b[0m \u001b[1;36m0\u001b[0m\u001b[1;33m:\u001b[0m\u001b[1;33m\u001b[0m\u001b[0m\n\u001b[0;32m---> 25\u001b[0;31m                         \u001b[0merror\u001b[0m \u001b[1;33m=\u001b[0m \u001b[1;33m(\u001b[0m\u001b[1;36m1\u001b[0m\u001b[1;33m-\u001b[0m\u001b[0mY\u001b[0m\u001b[1;33m[\u001b[0m\u001b[0mi\u001b[0m\u001b[1;33m]\u001b[0m\u001b[1;33m)\u001b[0m \u001b[1;33m*\u001b[0m \u001b[0mmath\u001b[0m\u001b[1;33m.\u001b[0m\u001b[0mlog\u001b[0m\u001b[1;33m(\u001b[0m\u001b[1;36m1\u001b[0m\u001b[1;33m-\u001b[0m\u001b[0mhi\u001b[0m\u001b[1;33m)\u001b[0m\u001b[1;33m\u001b[0m\u001b[0m\n\u001b[0m\u001b[1;32m     26\u001b[0m                 \u001b[0msumOfErrors\u001b[0m \u001b[1;33m+=\u001b[0m \u001b[0merror\u001b[0m\u001b[1;33m\u001b[0m\u001b[0m\n\u001b[1;32m     27\u001b[0m         \u001b[0mconst\u001b[0m \u001b[1;33m=\u001b[0m \u001b[1;33m-\u001b[0m\u001b[1;36m1\u001b[0m\u001b[1;33m/\u001b[0m\u001b[0mm\u001b[0m\u001b[1;33m\u001b[0m\u001b[0m\n",
      "\u001b[0;31mValueError\u001b[0m: math domain error"
     ]
    }
   ],
   "source": [
    "##This method compares the accuracy of the model generated by the scikit library with the model generated by this implementation\n",
    "def Declare_Winner(theta):\n",
    "    score = 0\n",
    "    winner = \"\"\n",
    "    #first scikit LR is tested for each independent var in the dataset and its prediction is compared against the dependent var\n",
    "    #if the prediction is the same as the dataset measured value it counts as a point for thie scikit version of LR\n",
    "    scikit_score = clf.score(X_test,Y_test)\n",
    "    length = len(X_test)\n",
    "    for i in range(0,length):\n",
    "        prediction = round(Hypothesis(X_test[i],theta))\n",
    "        answer = Y_test[i]\n",
    "        if prediction == answer:\n",
    "            score += 1\n",
    "    #the same process is repeated for the implementation from this module and the scores compared to find the higher match-rate\n",
    "    my_score = float(score) / float(length)\n",
    "    if my_score > scikit_score:\n",
    "        print('You won!')\n",
    "    elif my_score == scikit_score:\n",
    "        print('Its a tie!')\n",
    "    else:\n",
    "        print('Scikit won.. :(')\n",
    "    print('Your score: ', my_score)\n",
    "    print('Scikits score: ', scikit_score) \n",
    "\n",
    "# These are the initial guesses for theta as well as the learning rate of the algorithm\n",
    "# A learning rate too low will not close in on the most accurate values within a reasonable number of iterations\n",
    "# An alpha too high might overshoot the accurate values or cause irratic guesses\n",
    "# Each iteration increases model accuracy but with diminishing returns, \n",
    "# and takes a signficicant coefficient times O(n)*|Theta|, n = dataset length\n",
    "initial_theta = [0,0]\n",
    "alpha = 0.1\n",
    "iterations = 1000\n",
    "Logistic_Regression(X,Y,alpha,initial_theta,iterations)"
   ]
  },
  {
   "cell_type": "code",
   "execution_count": null,
   "metadata": {
    "collapsed": true
   },
   "outputs": [],
   "source": []
  }
 ],
 "metadata": {
  "anaconda-cloud": {},
  "kernelspec": {
   "display_name": "Python [conda root]",
   "language": "python",
   "name": "conda-root-py"
  },
  "language_info": {
   "codemirror_mode": {
    "name": "ipython",
    "version": 3
   },
   "file_extension": ".py",
   "mimetype": "text/x-python",
   "name": "python",
   "nbconvert_exporter": "python",
   "pygments_lexer": "ipython3",
   "version": "3.5.2"
  }
 },
 "nbformat": 4,
 "nbformat_minor": 1
}
